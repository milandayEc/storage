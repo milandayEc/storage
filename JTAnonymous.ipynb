{
 "cells": [
  {
   "cell_type": "code",
   "execution_count": 6,
   "id": "3d6afc44-2096-466c-8abd-33412d0de7a5",
   "metadata": {},
   "outputs": [
    {
     "name": "stdin",
     "output_type": "stream",
     "text": [
      "请输入匿名牌谱链接： https://game.maj-soul.com/1/?paipu=jmjnom-xq127097-cyzb-6eb8-hlip-kffkuwvmkquw_a61772597_2 \n"
     ]
    },
    {
     "name": "stdout",
     "output_type": "stream",
     "text": [
      "还原后的牌谱链接: https://game.maj-soul.com/1/?paipu=240330-91bbf7fc-f00b-4b73-ad9f-8215efd30589\n"
     ]
    }
   ],
   "source": [
    "# 定义数字和字母的列表\n",
    "numbers = [str(x) for x in range(10)]\n",
    "letters = [chr(x) for x in range(ord('a'), ord('z') + 1)]\n",
    "characters = numbers + letters  # 将数字和字母的列表合在一起\n",
    "\n",
    "# 读取用户输入的匿名牌谱链接\n",
    "paipu_link = input(\"请输入匿名牌谱链接：\")\n",
    "\n",
    "# 提取牌谱ID并转换为列表\n",
    "paipu_id = paipu_link.split('=')[1]\n",
    "\n",
    "# 初始化还原后的牌谱ID列表\n",
    "restored_id = []\n",
    "\n",
    "# 对牌谱ID中的每个字符进行处理\n",
    "for i, char in enumerate(paipu_id.split('_')[0]):  # 只处理\"_\"之前的部分\n",
    "    if char in characters:\n",
    "        # 查找字符在characters列表中的索引\n",
    "        index = characters.index(char)\n",
    "        # 计算原始位置的索引\n",
    "        shift = 17 + i  # 根据位置计算位移\n",
    "        # 应用逆向位移\n",
    "        original_index = (index - shift) % len(characters)\n",
    "        # 将还原后的字符添加到列表中\n",
    "        restored_id.append(characters[original_index])\n",
    "    else:\n",
    "        # 如果字符是'_'，则直接添加到还原后的ID中\n",
    "        restored_id.append(char)\n",
    "\n",
    "# 拼接还原后的牌谱ID，并去除末尾的\"_2\"\n",
    "restored_paipu_id = ''.join(restored_id).replace('_', '') + '_2' if restored_id[-2:] == '_2' else ''.join(restored_id)\n",
    "\n",
    "# 输出还原后的牌谱链接\n",
    "print(\"还原后的牌谱链接:\", f\"https://game.maj-soul.com/1/?paipu={restored_paipu_id}\")"
   ]
  },
  {
   "cell_type": "code",
   "execution_count": null,
   "id": "b782fddc-c09b-4b39-a67f-ddf56c7367ab",
   "metadata": {},
   "outputs": [],
   "source": []
  }
 ],
 "metadata": {
  "kernelspec": {
   "display_name": "Python 3 (ipykernel)",
   "language": "python",
   "name": "python3"
  },
  "language_info": {
   "codemirror_mode": {
    "name": "ipython",
    "version": 3
   },
   "file_extension": ".py",
   "mimetype": "text/x-python",
   "name": "python",
   "nbconvert_exporter": "python",
   "pygments_lexer": "ipython3",
   "version": "3.11.7"
  }
 },
 "nbformat": 4,
 "nbformat_minor": 5
}
