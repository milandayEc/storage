{
 "cells": [
  {
   "cell_type": "code",
   "execution_count": 1,
   "id": "6077ac99-01bc-484c-b55d-6ee7735e0bef",
   "metadata": {},
   "outputs": [
    {
     "ename": "IndexError",
     "evalue": "list index out of range",
     "output_type": "error",
     "traceback": [
      "\u001b[1;31m---------------------------------------------------------------------------\u001b[0m",
      "\u001b[1;31mIndexError\u001b[0m                                Traceback (most recent call last)",
      "Cell \u001b[1;32mIn[1], line 19\u001b[0m\n\u001b[0;32m     17\u001b[0m \u001b[38;5;28;01mfor\u001b[39;00m i \u001b[38;5;129;01min\u001b[39;00m pos:\n\u001b[0;32m     18\u001b[0m     k \u001b[38;5;241m=\u001b[39m ls[i] \u001b[38;5;241m+\u001b[39m \u001b[38;5;241m18\u001b[39m \u001b[38;5;241m-\u001b[39m pos\u001b[38;5;241m.\u001b[39mindex(i)  \u001b[38;5;66;03m# 计算需要左移的位数\u001b[39;00m\n\u001b[1;32m---> 19\u001b[0m     ls[i] \u001b[38;5;241m=\u001b[39m characters[k] \u001b[38;5;28;01mif\u001b[39;00m k \u001b[38;5;241m>\u001b[39m\u001b[38;5;241m=\u001b[39m \u001b[38;5;241m0\u001b[39m \u001b[38;5;28;01melse\u001b[39;00m characters[(k \u001b[38;5;241m+\u001b[39m \u001b[38;5;241m36\u001b[39m) \u001b[38;5;241m%\u001b[39m \u001b[38;5;241m36\u001b[39m]  \u001b[38;5;66;03m# 更新字符位置\u001b[39;00m\n\u001b[0;32m     21\u001b[0m \u001b[38;5;66;03m# 去除末尾的“_2”并输出结果\u001b[39;00m\n\u001b[0;32m     22\u001b[0m output \u001b[38;5;241m=\u001b[39m \u001b[38;5;124m'\u001b[39m\u001b[38;5;124m'\u001b[39m\u001b[38;5;241m.\u001b[39mjoin(ls)[:\u001b[38;5;241m-\u001b[39m\u001b[38;5;241m2\u001b[39m]  \u001b[38;5;66;03m# 去除末尾的两个下划线\u001b[39;00m\n",
      "\u001b[1;31mIndexError\u001b[0m: list index out of range"
     ]
    }
   ],
   "source": [
    "# 定义数字和字母的列表\n",
    "numbers = [chr(x) for x in range(ord('0'), ord('0') + 10)]\n",
    "letters = [chr(x) for x in range(ord('a'), ord('a') + 26)]\n",
    "characters = numbers + letters\n",
    "\n",
    "# 定义需要改变的位的列表（应该是从0开始的连续数字）\n",
    "pos = list(range(35, 35 + len(characters)))\n",
    "\n",
    "# 示例匿名牌谱链接（通常由用户输入）\n",
    "paipu_link = \"https://game.maj-soul.com/1/?paipu=jmjnom-xq127097-cyzb-6eb8-hlip-kffkuwvmkquw_a61772597_2\"\n",
    "\n",
    "# 提取牌谱ID并转换为列表\n",
    "paipu_id = paipu_link.split('=')[1].split('_')[0].replace('-', '')\n",
    "ls = [characters.index(c) for c in paipu_id]\n",
    "\n",
    "# 对每个位置的字符进行处理\n",
    "for i in pos:\n",
    "    k = ls[i] + 18 - pos.index(i)  # 计算需要左移的位数\n",
    "    ls[i] = characters[k] if k >= 0 else characters[(k + 36) % 36]  # 更新字符位置\n",
    "\n",
    "# 去除末尾的“_2”并输出结果\n",
    "output = ''.join(ls)[:-2]  # 去除末尾的两个下划线\n",
    "print(\"还原后的牌谱链接:\", \"https://game.maj-soul.com/1/?paipu=\" + output)"
   ]
  },
  {
   "cell_type": "code",
   "execution_count": 3,
   "id": "0d680d49-6aec-40f1-8cd7-f9bb7296523f",
   "metadata": {},
   "outputs": [
    {
     "name": "stdin",
     "output_type": "stream",
     "text": [
      "请输入匿名牌谱链接： https://game.maj-soul.com/1/?paipu=jmjnom-xq127097-cyzb-6eb8-hlip-kffkuwvmkquw_a61772597_2 \n"
     ]
    },
    {
     "ename": "ValueError",
     "evalue": "36 is not in list",
     "output_type": "error",
     "traceback": [
      "\u001b[1;31m---------------------------------------------------------------------------\u001b[0m",
      "\u001b[1;31mValueError\u001b[0m                                Traceback (most recent call last)",
      "Cell \u001b[1;32mIn[3], line 21\u001b[0m\n\u001b[0;32m     18\u001b[0m \u001b[38;5;66;03m# 对每个位置的字符进行处理\u001b[39;00m\n\u001b[0;32m     19\u001b[0m \u001b[38;5;28;01mfor\u001b[39;00m i, c \u001b[38;5;129;01min\u001b[39;00m \u001b[38;5;28menumerate\u001b[39m(ls):\n\u001b[0;32m     20\u001b[0m     \u001b[38;5;66;03m# 计算当前字符的原始位置\u001b[39;00m\n\u001b[1;32m---> 21\u001b[0m     original_pos \u001b[38;5;241m=\u001b[39m (pos\u001b[38;5;241m.\u001b[39mindex(i) \u001b[38;5;241m+\u001b[39m \u001b[38;5;241m18\u001b[39m) \u001b[38;5;241m%\u001b[39m \u001b[38;5;241m36\u001b[39m\n\u001b[0;32m     22\u001b[0m     \u001b[38;5;66;03m# 更新字符位置\u001b[39;00m\n\u001b[0;32m     23\u001b[0m     ls[i] \u001b[38;5;241m=\u001b[39m characters[original_pos]\n",
      "\u001b[1;31mValueError\u001b[0m: 36 is not in list"
     ]
    }
   ],
   "source": []
  },
  {
   "cell_type": "code",
   "execution_count": 4,
   "id": "463d14f8-72ed-4e8a-b5dc-5ed04ac53894",
   "metadata": {},
   "outputs": [
    {
     "name": "stdin",
     "output_type": "stream",
     "text": [
      "请输入匿名牌谱链接： https://game.maj-soul.com/1/?paipu=jmjnom-xq127097-cyzb-6eb8-hlip-kffkuwvmkquw_a61772597_2 \n"
     ]
    },
    {
     "ename": "ValueError",
     "evalue": "'-' is not in list",
     "output_type": "error",
     "traceback": [
      "\u001b[1;31m---------------------------------------------------------------------------\u001b[0m",
      "\u001b[1;31mValueError\u001b[0m                                Traceback (most recent call last)",
      "Cell \u001b[1;32mIn[4], line 16\u001b[0m\n\u001b[0;32m     13\u001b[0m paipu_id \u001b[38;5;241m=\u001b[39m paipu_link\u001b[38;5;241m.\u001b[39msplit(\u001b[38;5;124m'\u001b[39m\u001b[38;5;124m=\u001b[39m\u001b[38;5;124m'\u001b[39m)[\u001b[38;5;241m1\u001b[39m]\u001b[38;5;241m.\u001b[39msplit(\u001b[38;5;124m'\u001b[39m\u001b[38;5;124m_\u001b[39m\u001b[38;5;124m'\u001b[39m)[\u001b[38;5;241m0\u001b[39m]\n\u001b[0;32m     15\u001b[0m \u001b[38;5;66;03m# 将链接中的字符转换为对应的数字索引\u001b[39;00m\n\u001b[1;32m---> 16\u001b[0m ls \u001b[38;5;241m=\u001b[39m [characters\u001b[38;5;241m.\u001b[39mindex(c) \u001b[38;5;28;01mfor\u001b[39;00m c \u001b[38;5;129;01min\u001b[39;00m paipu_id]\n\u001b[0;32m     18\u001b[0m \u001b[38;5;66;03m# 对每个位置的字符进行处理\u001b[39;00m\n\u001b[0;32m     19\u001b[0m \u001b[38;5;28;01mfor\u001b[39;00m i \u001b[38;5;129;01min\u001b[39;00m \u001b[38;5;28mrange\u001b[39m(\u001b[38;5;28mlen\u001b[39m(ls)):\n\u001b[0;32m     20\u001b[0m     \u001b[38;5;66;03m# 计算当前字符的原始位置\u001b[39;00m\n",
      "Cell \u001b[1;32mIn[4], line 16\u001b[0m, in \u001b[0;36m<listcomp>\u001b[1;34m(.0)\u001b[0m\n\u001b[0;32m     13\u001b[0m paipu_id \u001b[38;5;241m=\u001b[39m paipu_link\u001b[38;5;241m.\u001b[39msplit(\u001b[38;5;124m'\u001b[39m\u001b[38;5;124m=\u001b[39m\u001b[38;5;124m'\u001b[39m)[\u001b[38;5;241m1\u001b[39m]\u001b[38;5;241m.\u001b[39msplit(\u001b[38;5;124m'\u001b[39m\u001b[38;5;124m_\u001b[39m\u001b[38;5;124m'\u001b[39m)[\u001b[38;5;241m0\u001b[39m]\n\u001b[0;32m     15\u001b[0m \u001b[38;5;66;03m# 将链接中的字符转换为对应的数字索引\u001b[39;00m\n\u001b[1;32m---> 16\u001b[0m ls \u001b[38;5;241m=\u001b[39m [characters\u001b[38;5;241m.\u001b[39mindex(c) \u001b[38;5;28;01mfor\u001b[39;00m c \u001b[38;5;129;01min\u001b[39;00m paipu_id]\n\u001b[0;32m     18\u001b[0m \u001b[38;5;66;03m# 对每个位置的字符进行处理\u001b[39;00m\n\u001b[0;32m     19\u001b[0m \u001b[38;5;28;01mfor\u001b[39;00m i \u001b[38;5;129;01min\u001b[39;00m \u001b[38;5;28mrange\u001b[39m(\u001b[38;5;28mlen\u001b[39m(ls)):\n\u001b[0;32m     20\u001b[0m     \u001b[38;5;66;03m# 计算当前字符的原始位置\u001b[39;00m\n",
      "\u001b[1;31mValueError\u001b[0m: '-' is not in list"
     ]
    }
   ],
   "source": []
  },
  {
   "cell_type": "code",
   "execution_count": 5,
   "id": "b809620f-658e-49dd-95fd-ff16003bb2f8",
   "metadata": {},
   "outputs": [
    {
     "name": "stdin",
     "output_type": "stream",
     "text": [
      "请输入匿名牌谱链接： https://game.maj-soul.com/1/?paipu=jmjnom-xq127097-cyzb-6eb8-hlip-kffkuwvmkquw_a61772597_2 \n"
     ]
    },
    {
     "ename": "ValueError",
     "evalue": "'-' is not in list",
     "output_type": "error",
     "traceback": [
      "\u001b[1;31m---------------------------------------------------------------------------\u001b[0m",
      "\u001b[1;31mValueError\u001b[0m                                Traceback (most recent call last)",
      "Cell \u001b[1;32mIn[5], line 16\u001b[0m\n\u001b[0;32m     13\u001b[0m paipu_id \u001b[38;5;241m=\u001b[39m paipu_link\u001b[38;5;241m.\u001b[39msplit(\u001b[38;5;124m'\u001b[39m\u001b[38;5;124m=\u001b[39m\u001b[38;5;124m'\u001b[39m)[\u001b[38;5;241m1\u001b[39m]\u001b[38;5;241m.\u001b[39msplit(\u001b[38;5;124m'\u001b[39m\u001b[38;5;124m_\u001b[39m\u001b[38;5;124m'\u001b[39m)[\u001b[38;5;241m0\u001b[39m]\n\u001b[0;32m     15\u001b[0m \u001b[38;5;66;03m# 将链接中的字符转换为对应的数字索引\u001b[39;00m\n\u001b[1;32m---> 16\u001b[0m ls \u001b[38;5;241m=\u001b[39m [characters\u001b[38;5;241m.\u001b[39mindex(c) \u001b[38;5;28;01mfor\u001b[39;00m c \u001b[38;5;129;01min\u001b[39;00m paipu_id]\n\u001b[0;32m     18\u001b[0m \u001b[38;5;66;03m# 对每个位置的字符进行处理\u001b[39;00m\n\u001b[0;32m     19\u001b[0m \u001b[38;5;28;01mfor\u001b[39;00m i \u001b[38;5;129;01min\u001b[39;00m \u001b[38;5;28mrange\u001b[39m(\u001b[38;5;28mlen\u001b[39m(ls)):\n\u001b[0;32m     20\u001b[0m     \u001b[38;5;66;03m# 计算当前字符的原始位置\u001b[39;00m\n",
      "Cell \u001b[1;32mIn[5], line 16\u001b[0m, in \u001b[0;36m<listcomp>\u001b[1;34m(.0)\u001b[0m\n\u001b[0;32m     13\u001b[0m paipu_id \u001b[38;5;241m=\u001b[39m paipu_link\u001b[38;5;241m.\u001b[39msplit(\u001b[38;5;124m'\u001b[39m\u001b[38;5;124m=\u001b[39m\u001b[38;5;124m'\u001b[39m)[\u001b[38;5;241m1\u001b[39m]\u001b[38;5;241m.\u001b[39msplit(\u001b[38;5;124m'\u001b[39m\u001b[38;5;124m_\u001b[39m\u001b[38;5;124m'\u001b[39m)[\u001b[38;5;241m0\u001b[39m]\n\u001b[0;32m     15\u001b[0m \u001b[38;5;66;03m# 将链接中的字符转换为对应的数字索引\u001b[39;00m\n\u001b[1;32m---> 16\u001b[0m ls \u001b[38;5;241m=\u001b[39m [characters\u001b[38;5;241m.\u001b[39mindex(c) \u001b[38;5;28;01mfor\u001b[39;00m c \u001b[38;5;129;01min\u001b[39;00m paipu_id]\n\u001b[0;32m     18\u001b[0m \u001b[38;5;66;03m# 对每个位置的字符进行处理\u001b[39;00m\n\u001b[0;32m     19\u001b[0m \u001b[38;5;28;01mfor\u001b[39;00m i \u001b[38;5;129;01min\u001b[39;00m \u001b[38;5;28mrange\u001b[39m(\u001b[38;5;28mlen\u001b[39m(ls)):\n\u001b[0;32m     20\u001b[0m     \u001b[38;5;66;03m# 计算当前字符的原始位置\u001b[39;00m\n",
      "\u001b[1;31mValueError\u001b[0m: '-' is not in list"
     ]
    }
   ],
   "source": [
    "# 定义数字和字母的列表\n",
    "numbers = [chr(x) for x in range(ord('0'), ord('0') + 10)]\n",
    "letters = [chr(x) for x in range(ord('a'), ord('a') + 26)]\n",
    "characters = numbers + letters\n",
    "\n",
    "# 定义匿名牌谱链接中字符的位置（从0开始）\n",
    "pos = list(range(35, 35 + len(characters)))\n",
    "\n",
    "# 读取用户输入的匿名牌谱链接\n",
    "paipu_link = input(\"请输入匿名牌谱链接：\")\n",
    "\n",
    "# 提取牌谱ID并转换为列表，同时移除链接中的'-'字符\n",
    "paipu_id = paipu_link.split('=')[1].split('_')[0]\n",
    "\n",
    "# 将链接中的字符转换为对应的数字索引\n",
    "ls = [characters.index(c) for c in paipu_id]\n",
    "\n",
    "# 对每个位置的字符进行处理\n",
    "for i in range(len(ls)):\n",
    "    # 计算当前字符的原始位置\n",
    "    k = (ls[i] + 18 - i) % 36\n",
    "    # 更新字符位置\n",
    "    ls[i] = characters[k]\n",
    "\n",
    "# 去除末尾的“_2”并输出结果\n",
    "output = ''.join(ls).replace('_', '') + '_2'  # 去除末尾的下划线并添加'_2'\n",
    "print(\"还原后的牌谱链接:\", \"https://game.maj-soul.com/1/?paipu=\" + output)"
   ]
  },
  {
   "cell_type": "code",
   "execution_count": 6,
   "id": "4911ae61-508a-4b1c-82ef-d3789bee386c",
   "metadata": {},
   "outputs": [
    {
     "name": "stdin",
     "output_type": "stream",
     "text": [
      "请输入匿名牌谱链接： https://game.maj-soul.com/1/?paipu=jmjnom-xq127097-cyzb-6eb8-hlip-kffkuwvmkquw_a61772597_2 \n"
     ]
    },
    {
     "ename": "ValueError",
     "evalue": "'_' is not in list",
     "output_type": "error",
     "traceback": [
      "\u001b[1;31m---------------------------------------------------------------------------\u001b[0m",
      "\u001b[1;31mValueError\u001b[0m                                Traceback (most recent call last)",
      "Cell \u001b[1;32mIn[6], line 16\u001b[0m\n\u001b[0;32m     13\u001b[0m paipu_id \u001b[38;5;241m=\u001b[39m paipu_link\u001b[38;5;241m.\u001b[39msplit(\u001b[38;5;124m'\u001b[39m\u001b[38;5;124m=\u001b[39m\u001b[38;5;124m'\u001b[39m)[\u001b[38;5;241m1\u001b[39m]\u001b[38;5;241m.\u001b[39mreplace(\u001b[38;5;124m'\u001b[39m\u001b[38;5;124m-\u001b[39m\u001b[38;5;124m'\u001b[39m, \u001b[38;5;124m'\u001b[39m\u001b[38;5;124m'\u001b[39m)\n\u001b[0;32m     15\u001b[0m \u001b[38;5;66;03m# 将链接中的字符转换为对应的数字索引\u001b[39;00m\n\u001b[1;32m---> 16\u001b[0m ls \u001b[38;5;241m=\u001b[39m [characters\u001b[38;5;241m.\u001b[39mindex(c) \u001b[38;5;28;01mfor\u001b[39;00m c \u001b[38;5;129;01min\u001b[39;00m paipu_id]\n\u001b[0;32m     18\u001b[0m \u001b[38;5;66;03m# 对每个位置的字符进行处理\u001b[39;00m\n\u001b[0;32m     19\u001b[0m \u001b[38;5;28;01mfor\u001b[39;00m i, index \u001b[38;5;129;01min\u001b[39;00m \u001b[38;5;28menumerate\u001b[39m(ls):\n\u001b[0;32m     20\u001b[0m     \u001b[38;5;66;03m# 计算当前字符的原始位置\u001b[39;00m\n",
      "Cell \u001b[1;32mIn[6], line 16\u001b[0m, in \u001b[0;36m<listcomp>\u001b[1;34m(.0)\u001b[0m\n\u001b[0;32m     13\u001b[0m paipu_id \u001b[38;5;241m=\u001b[39m paipu_link\u001b[38;5;241m.\u001b[39msplit(\u001b[38;5;124m'\u001b[39m\u001b[38;5;124m=\u001b[39m\u001b[38;5;124m'\u001b[39m)[\u001b[38;5;241m1\u001b[39m]\u001b[38;5;241m.\u001b[39mreplace(\u001b[38;5;124m'\u001b[39m\u001b[38;5;124m-\u001b[39m\u001b[38;5;124m'\u001b[39m, \u001b[38;5;124m'\u001b[39m\u001b[38;5;124m'\u001b[39m)\n\u001b[0;32m     15\u001b[0m \u001b[38;5;66;03m# 将链接中的字符转换为对应的数字索引\u001b[39;00m\n\u001b[1;32m---> 16\u001b[0m ls \u001b[38;5;241m=\u001b[39m [characters\u001b[38;5;241m.\u001b[39mindex(c) \u001b[38;5;28;01mfor\u001b[39;00m c \u001b[38;5;129;01min\u001b[39;00m paipu_id]\n\u001b[0;32m     18\u001b[0m \u001b[38;5;66;03m# 对每个位置的字符进行处理\u001b[39;00m\n\u001b[0;32m     19\u001b[0m \u001b[38;5;28;01mfor\u001b[39;00m i, index \u001b[38;5;129;01min\u001b[39;00m \u001b[38;5;28menumerate\u001b[39m(ls):\n\u001b[0;32m     20\u001b[0m     \u001b[38;5;66;03m# 计算当前字符的原始位置\u001b[39;00m\n",
      "\u001b[1;31mValueError\u001b[0m: '_' is not in list"
     ]
    }
   ],
   "source": [
    "# 定义数字和字母的列表\n",
    "numbers = [str(x) for x in range(10)]\n",
    "letters = [chr(x) for x in range(ord('a'), ord('z') + 1)]\n",
    "characters = numbers + letters\n",
    "\n",
    "# 定义位移的偏移量\n",
    "offsets = [17, 18, 19, 20, 21, 22, 23, 24, 25, 26, 0, 1, 2, 3, 4, 5, 6, 7, 8, 9, 10, 11, 12, 13, 14, 15, 16]\n",
    "\n",
    "# 读取用户输入的匿名牌谱链接\n",
    "paipu_link = input(\"请输入匿名牌谱链接：\")\n",
    "\n",
    "# 提取牌谱ID并移除'-'字符\n",
    "paipu_id = paipu_link.split('=')[1].replace('-', '')\n",
    "\n",
    "# 将链接中的字符转换为对应的数字索引\n",
    "ls = [characters.index(c) for c in paipu_id]\n",
    "\n",
    "# 对每个位置的字符进行处理\n",
    "for i, index in enumerate(ls):\n",
    "    # 计算当前字符的原始位置\n",
    "    original_index = (index + offsets[i]) % len(characters)\n",
    "    # 更新字符位置\n",
    "    ls[i] = characters[original_index]\n",
    "\n",
    "# 去除末尾的“_2”并输出结果\n",
    "output = ''.join(ls).replace('_', '') + '_2'  # 去除末尾的下划线并添加'_2'\n",
    "print(\"还原后的牌谱链接:\", \"https://game.maj-soul.com/1/?paipu=\" + output)\n"
   ]
  },
  {
   "cell_type": "code",
   "execution_count": 7,
   "id": "03812603-cf73-4b27-b11a-e1b7971e1f03",
   "metadata": {},
   "outputs": [
    {
     "name": "stdin",
     "output_type": "stream",
     "text": [
      "请输入匿名牌谱链接： https://game.maj-soul.com/1/?paipu=jmjnom-xq127097-cyzb-6eb8-hlip-kffkuwvmkquw_a61772597_2 \n"
     ]
    },
    {
     "ename": "ValueError",
     "evalue": "' ' is not in list",
     "output_type": "error",
     "traceback": [
      "\u001b[1;31m---------------------------------------------------------------------------\u001b[0m",
      "\u001b[1;31mValueError\u001b[0m                                Traceback (most recent call last)",
      "Cell \u001b[1;32mIn[7], line 17\u001b[0m\n\u001b[0;32m     14\u001b[0m paipu_id \u001b[38;5;241m=\u001b[39m paipu_link\u001b[38;5;241m.\u001b[39msplit(\u001b[38;5;124m'\u001b[39m\u001b[38;5;124m=\u001b[39m\u001b[38;5;124m'\u001b[39m)[\u001b[38;5;241m1\u001b[39m]\n\u001b[0;32m     16\u001b[0m \u001b[38;5;66;03m# 将链接中的字符转换为对应的数字索引\u001b[39;00m\n\u001b[1;32m---> 17\u001b[0m ls \u001b[38;5;241m=\u001b[39m [characters\u001b[38;5;241m.\u001b[39mindex(c) \u001b[38;5;28;01mfor\u001b[39;00m c \u001b[38;5;129;01min\u001b[39;00m paipu_id]\n\u001b[0;32m     19\u001b[0m \u001b[38;5;66;03m# 对每个位置的字符进行处理\u001b[39;00m\n\u001b[0;32m     20\u001b[0m \u001b[38;5;28;01mfor\u001b[39;00m i, index \u001b[38;5;129;01min\u001b[39;00m \u001b[38;5;28menumerate\u001b[39m(ls):\n\u001b[0;32m     21\u001b[0m     \u001b[38;5;66;03m# 计算当前字符的原始位置\u001b[39;00m\n",
      "Cell \u001b[1;32mIn[7], line 17\u001b[0m, in \u001b[0;36m<listcomp>\u001b[1;34m(.0)\u001b[0m\n\u001b[0;32m     14\u001b[0m paipu_id \u001b[38;5;241m=\u001b[39m paipu_link\u001b[38;5;241m.\u001b[39msplit(\u001b[38;5;124m'\u001b[39m\u001b[38;5;124m=\u001b[39m\u001b[38;5;124m'\u001b[39m)[\u001b[38;5;241m1\u001b[39m]\n\u001b[0;32m     16\u001b[0m \u001b[38;5;66;03m# 将链接中的字符转换为对应的数字索引\u001b[39;00m\n\u001b[1;32m---> 17\u001b[0m ls \u001b[38;5;241m=\u001b[39m [characters\u001b[38;5;241m.\u001b[39mindex(c) \u001b[38;5;28;01mfor\u001b[39;00m c \u001b[38;5;129;01min\u001b[39;00m paipu_id]\n\u001b[0;32m     19\u001b[0m \u001b[38;5;66;03m# 对每个位置的字符进行处理\u001b[39;00m\n\u001b[0;32m     20\u001b[0m \u001b[38;5;28;01mfor\u001b[39;00m i, index \u001b[38;5;129;01min\u001b[39;00m \u001b[38;5;28menumerate\u001b[39m(ls):\n\u001b[0;32m     21\u001b[0m     \u001b[38;5;66;03m# 计算当前字符的原始位置\u001b[39;00m\n",
      "\u001b[1;31mValueError\u001b[0m: ' ' is not in list"
     ]
    }
   ],
   "source": [
    "# 定义可能出现在牌谱ID中的所有字符\n",
    "numbers = [str(x) for x in range(10)]\n",
    "letters = [chr(x) for x in range(ord('a'), ord('z') + 1)]\n",
    "additional_chars = ['-', '_']  # 添加 '-' 和 '_' 字符\n",
    "characters = numbers + letters + additional_chars\n",
    "\n",
    "# 定义位移的偏移量\n",
    "offsets = [17, 18, 19, 20, 21, 22, 23, 24, 25, 26, 0, 1, 2, 3, 4, 5, 6, 7, 8, 9]\n",
    "\n",
    "# 读取用户输入的匿名牌谱链接\n",
    "paipu_link = input(\"请输入匿名牌谱链接：\")\n",
    "\n",
    "# 提取牌谱ID并移除'-'字符\n",
    "paipu_id = paipu_link.split('=')[1]\n",
    "\n",
    "# 将链接中的字符转换为对应的数字索引\n",
    "ls = [characters.index(c) for c in paipu_id]\n",
    "\n",
    "# 对每个位置的字符进行处理\n",
    "for i, index in enumerate(ls):\n",
    "    # 计算当前字符的原始位置\n",
    "    original_index = (index + offsets[i]) % len(characters)\n",
    "    # 更新字符位置\n",
    "    ls[i] = characters[original_index]\n",
    "\n",
    "# 去除末尾的“_2”并输出结果\n",
    "output = ''.join(ls).replace('_', '')  # 去除末尾的下划线\n",
    "print(\"还原后的牌谱链接:\", \"https://game.maj-soul.com/1/?paipu=\" + output)\n",
    "\n"
   ]
  },
  {
   "cell_type": "code",
   "execution_count": 8,
   "id": "13f2251a-f2a1-405b-97ac-e70a5ce1a1fa",
   "metadata": {},
   "outputs": [
    {
     "name": "stdin",
     "output_type": "stream",
     "text": [
      "请输入匿名牌谱链接： https://game.maj-soul.com/1/?paipu=jmjnom-xq127097-cyzb-6eb8-hlip-kffkuwvmkquw_a61772597_2 \n"
     ]
    },
    {
     "ename": "IndexError",
     "evalue": "list index out of range",
     "output_type": "error",
     "traceback": [
      "\u001b[1;31m---------------------------------------------------------------------------\u001b[0m",
      "\u001b[1;31mIndexError\u001b[0m                                Traceback (most recent call last)",
      "Cell \u001b[1;32mIn[8], line 22\u001b[0m\n\u001b[0;32m     19\u001b[0m \u001b[38;5;66;03m# 对每个位置的字符进行处理\u001b[39;00m\n\u001b[0;32m     20\u001b[0m \u001b[38;5;28;01mfor\u001b[39;00m i, index \u001b[38;5;129;01min\u001b[39;00m \u001b[38;5;28menumerate\u001b[39m(ls):\n\u001b[0;32m     21\u001b[0m     \u001b[38;5;66;03m# 计算当前字符的原始位置\u001b[39;00m\n\u001b[1;32m---> 22\u001b[0m     original_index \u001b[38;5;241m=\u001b[39m (index \u001b[38;5;241m+\u001b[39m offsets[i]) \u001b[38;5;241m%\u001b[39m \u001b[38;5;28mlen\u001b[39m(characters)\n\u001b[0;32m     23\u001b[0m     \u001b[38;5;66;03m# 更新字符位置\u001b[39;00m\n\u001b[0;32m     24\u001b[0m     ls[i] \u001b[38;5;241m=\u001b[39m characters[original_index]\n",
      "\u001b[1;31mIndexError\u001b[0m: list index out of range"
     ]
    }
   ],
   "source": [
    "# 定义可能出现在牌谱ID中的所有字符\n",
    "numbers = [str(x) for x in range(10)]\n",
    "letters = [chr(x) for x in range(ord('a'), ord('z') + 1)]\n",
    "additional_chars = ['_', '-']  # 添加 '_' 和 '-' 字符\n",
    "characters = numbers + letters + additional_chars\n",
    "\n",
    "# 定义位移的偏移量\n",
    "offsets = [17, 18, 19, 20, 21, 22, 23, 24, 25, 26, 0, 1, 2, 3, 4, 5, 6, 7, 8, 9]\n",
    "\n",
    "# 读取用户输入的匿名牌谱链接\n",
    "paipu_link = input(\"请输入匿名牌谱链接：\")\n",
    "\n",
    "# 提取牌谱ID并清理非法字符\n",
    "paipu_id = paipu_link.split('=')[1].replace('-', '').replace(' ', '')\n",
    "\n",
    "# 将链接中的字符转换为对应的数字索引\n",
    "ls = [characters.index(c) for c in paipu_id]\n",
    "\n",
    "# 对每个位置的字符进行处理\n",
    "for i, index in enumerate(ls):\n",
    "    # 计算当前字符的原始位置\n",
    "    original_index = (index + offsets[i]) % len(characters)\n",
    "    # 更新字符位置\n",
    "    ls[i] = characters[original_index]\n",
    "\n",
    "# 去除末尾的“_2”并输出结果\n",
    "output = ''.join(characters[c] for c in ls).replace('_', '')  # 去除末尾的下划线\n",
    "print(\"还原后的牌谱链接:\", \"https://game.maj-soul.com/1/?paipu=\" + output)\n"
   ]
  },
  {
   "cell_type": "code",
   "execution_count": 9,
   "id": "05c53762-0738-41c0-8a91-39445b56c903",
   "metadata": {},
   "outputs": [
    {
     "name": "stdin",
     "output_type": "stream",
     "text": [
      "请输入匿名牌谱链接： https://game.maj-soul.com/1/?paipu=jmjnom-xq127097-cyzb-6eb8-hlip-kffkuwvmkquw_a61772597_2 \n"
     ]
    },
    {
     "name": "stdout",
     "output_type": "stream",
     "text": [
      "还原后的牌谱链接: https://game.maj-soul.com/1/?paipu=j5j5m5r16s38078rye8cry6c0r9dahrc77cmon5c6mo\n"
     ]
    }
   ],
   "source": [
    "# 定义数字和字母的列表，包括'-'和'_'，因为它们可能出现在牌谱ID中\n",
    "characters = ['0', '1', '2', '3', '4', '5', '6', '7', '8', '9', 'a', 'b', 'c', 'd', 'e', 'f', 'g', 'h', 'i', 'j', 'k', 'l', 'm', 'n', 'o', 'p', 'q', 'r', 's', 't', 'u', 'v', 'w', 'x', 'y', 'z', '-', '_']\n",
    "\n",
    "# 位移规则，每个位置的字符根据这个规则进行位移\n",
    "shifts = [17, 18, 19, 20, 21, 22, 23, 24, 25, 26, 0, 1, 2, 3, 4, 5, 6, 7, 8, 9]\n",
    "\n",
    "# 读取用户输入的匿名牌谱链接\n",
    "paipu_link = input(\"请输入匿名牌谱链接：\")\n",
    "\n",
    "# 提取牌谱ID\n",
    "paipu_id = paipu_link.split('=')[1].split('_')[0]\n",
    "\n",
    "# 初始化还原后的牌谱ID列表\n",
    "restored_id = []\n",
    "\n",
    "# 对牌谱ID中的每个字符进行处理\n",
    "for char in paipu_id:\n",
    "    # 查找字符在characters列表中的索引\n",
    "    index = characters.index(char)\n",
    "    # 计算原始位置的索引\n",
    "    original_index = (index - sum(shifts[:paipu_id.index(char)])) % 36\n",
    "    # 将还原后的字符添加到列表中\n",
    "    restored_id.append(characters[original_index])\n",
    "\n",
    "# 拼接还原后的牌谱ID\n",
    "restored_paipu = ''.join(restored_id).replace('_', '').replace('-', '')\n",
    "\n",
    "# 输出还原后的牌谱链接\n",
    "print(\"还原后的牌谱链接:\", f\"https://game.maj-soul.com/1/?paipu={restored_paipu}\")\n"
   ]
  },
  {
   "cell_type": "code",
   "execution_count": 10,
   "id": "30c59ee6-ed31-4564-8b08-6772be058594",
   "metadata": {},
   "outputs": [
    {
     "name": "stdin",
     "output_type": "stream",
     "text": [
      "请输入匿名牌谱链接： https://game.maj-soul.com/1/?paipu=jmjnom-xq127097-cyzb-6eb8-hlip-kffkuwvmkquw_a61772597_2 \n"
     ]
    },
    {
     "ename": "IndexError",
     "evalue": "list index out of range",
     "output_type": "error",
     "traceback": [
      "\u001b[1;31m---------------------------------------------------------------------------\u001b[0m",
      "\u001b[1;31mIndexError\u001b[0m                                Traceback (most recent call last)",
      "Cell \u001b[1;32mIn[10], line 24\u001b[0m\n\u001b[0;32m     22\u001b[0m index \u001b[38;5;241m=\u001b[39m characters\u001b[38;5;241m.\u001b[39mindex(char)\n\u001b[0;32m     23\u001b[0m \u001b[38;5;66;03m# 计算原始位置的索引\u001b[39;00m\n\u001b[1;32m---> 24\u001b[0m original_index \u001b[38;5;241m=\u001b[39m (index \u001b[38;5;241m-\u001b[39m shifts[i]) \u001b[38;5;241m%\u001b[39m \u001b[38;5;241m36\u001b[39m\n\u001b[0;32m     25\u001b[0m \u001b[38;5;66;03m# 将还原后的字符添加到列表中\u001b[39;00m\n\u001b[0;32m     26\u001b[0m restored_id\u001b[38;5;241m.\u001b[39mappend(characters[original_index])\n",
      "\u001b[1;31mIndexError\u001b[0m: list index out of range"
     ]
    }
   ],
   "source": [
    "# 定义数字和字母的列表，包括'-'和'_'，因为它们可能出现在牌谱ID中\n",
    "characters = ['0', '1', '2', '3', '4', '5', '6', '7', '8', '9',\n",
    "               'a', 'b', 'c', 'd', 'e', 'f', 'g', 'h', 'i', 'j', 'k', 'l',\n",
    "               'm', 'n', 'o', 'p', 'q', 'r', 's', 't', 'u', 'v', 'w', 'x',\n",
    "               'y', 'z', '-', '_']\n",
    "\n",
    "# 位移规则，每个位置的字符根据这个规则进行位移\n",
    "shifts = [17, 18, 19, 20, 21, 22, 23, 24, 25, 26, 0, 1, 2, 3, 4, 5, 6, 7, 8, 9]\n",
    "\n",
    "# 读取用户输入的匿名牌谱链接\n",
    "paipu_link = input(\"请输入匿名牌谱链接：\")\n",
    "\n",
    "# 提取牌谱ID\n",
    "paipu_id = paipu_link.split('=')[1]\n",
    "\n",
    "# 初始化还原后的牌谱ID列表\n",
    "restored_id = []\n",
    "\n",
    "# 对牌谱ID中的每个字符进行处理\n",
    "for i, char in enumerate(paipu_id):\n",
    "    # 查找字符在characters列表中的索引\n",
    "    index = characters.index(char)\n",
    "    # 计算原始位置的索引\n",
    "    original_index = (index - shifts[i]) % 36\n",
    "    # 将还原后的字符添加到列表中\n",
    "    restored_id.append(characters[original_index])\n",
    "\n",
    "# 拼接还原后的牌谱ID\n",
    "restored_paipu_id = ''.join(restored_id)\n",
    "\n",
    "# 输出还原后的牌谱链接\n",
    "print(\"还原后的牌谱链接:\", f\"https://game.maj-soul.com/1/?paipu={restored_paipu_id}\")"
   ]
  },
  {
   "cell_type": "code",
   "execution_count": 11,
   "id": "526f14d2-a097-4f1b-8be7-63c63954e305",
   "metadata": {},
   "outputs": [
    {
     "name": "stdin",
     "output_type": "stream",
     "text": [
      "请输入匿名牌谱链接： https://game.maj-soul.com/1/?paipu=jmjnom-xq127097-cyzb-6eb8-hlip-kffkuwvmkquw_a61772597_2 \n"
     ]
    },
    {
     "ename": "IndexError",
     "evalue": "list index out of range",
     "output_type": "error",
     "traceback": [
      "\u001b[1;31m---------------------------------------------------------------------------\u001b[0m",
      "\u001b[1;31mIndexError\u001b[0m                                Traceback (most recent call last)",
      "Cell \u001b[1;32mIn[11], line 24\u001b[0m\n\u001b[0;32m     22\u001b[0m index \u001b[38;5;241m=\u001b[39m characters\u001b[38;5;241m.\u001b[39mindex(char)\n\u001b[0;32m     23\u001b[0m \u001b[38;5;66;03m# 计算原始位置的索引，确保使用shifts列表中的正确位移值\u001b[39;00m\n\u001b[1;32m---> 24\u001b[0m original_index \u001b[38;5;241m=\u001b[39m (index \u001b[38;5;241m-\u001b[39m shifts[i \u001b[38;5;241m-\u001b[39m \u001b[38;5;241m1\u001b[39m]) \u001b[38;5;241m%\u001b[39m \u001b[38;5;241m36\u001b[39m\n\u001b[0;32m     25\u001b[0m \u001b[38;5;66;03m# 将还原后的字符添加到列表中\u001b[39;00m\n\u001b[0;32m     26\u001b[0m restored_id\u001b[38;5;241m.\u001b[39mappend(characters[original_index])\n",
      "\u001b[1;31mIndexError\u001b[0m: list index out of range"
     ]
    }
   ],
   "source": [
    "# 定义数字和字母的列表，包括'-'和'_'，因为它们可能出现在牌谱ID中\n",
    "characters = ['0', '1', '2', '3', '4', '5', '6', '7', '8', '9',\n",
    "               'a', 'b', 'c', 'd', 'e', 'f', 'g', 'h', 'i', 'j', 'k', 'l',\n",
    "               'm', 'n', 'o', 'p', 'q', 'r', 's', 't', 'u', 'v', 'w', 'x',\n",
    "               'y', 'z', '-', '_']\n",
    "\n",
    "# 位移规则，每个位置的字符根据这个规则进行位移\n",
    "shifts = [17, 18, 19, 20, 21, 22, 23, 24, 25, 26, 0, 1, 2, 3, 4, 5, 6, 7, 8, 9]\n",
    "\n",
    "# 读取用户输入的匿名牌谱链接\n",
    "paipu_link = input(\"请输入匿名牌谱链接：\")\n",
    "\n",
    "# 提取牌谱ID\n",
    "paipu_id = paipu_link.split('=')[1]\n",
    "\n",
    "# 初始化还原后的牌谱ID列表\n",
    "restored_id = []\n",
    "\n",
    "# 对牌谱ID中的每个字符进行处理\n",
    "for i, char in enumerate(paipu_id):\n",
    "    # 查找字符在characters列表中的索引\n",
    "    index = characters.index(char)\n",
    "    # 计算原始位置的索引，确保使用shifts列表中的正确位移值\n",
    "    original_index = (index - shifts[i - 1]) % 36\n",
    "    # 将还原后的字符添加到列表中\n",
    "    restored_id.append(characters[original_index])\n",
    "\n",
    "# 拼接还原后的牌谱ID\n",
    "restored_paipu_id = ''.join(restored_id)\n",
    "\n",
    "# 输出还原后的牌谱链接\n",
    "print(\"还原后的牌谱链接:\", f\"https://game.maj-soul.com/1/?paipu={restored_paipu_id}\")"
   ]
  },
  {
   "cell_type": "code",
   "execution_count": 12,
   "id": "d18549ca-3564-4c4b-b65e-7c278fdde600",
   "metadata": {},
   "outputs": [
    {
     "name": "stdin",
     "output_type": "stream",
     "text": [
      "请输入匿名牌谱链接： https://game.maj-soul.com/1/?paipu=jmjnom-xq127097-cyzb-6eb8-hlip-kffkuwvmkquw_a61772597_2 \n"
     ]
    },
    {
     "ename": "IndexError",
     "evalue": "list index out of range",
     "output_type": "error",
     "traceback": [
      "\u001b[1;31m---------------------------------------------------------------------------\u001b[0m",
      "\u001b[1;31mIndexError\u001b[0m                                Traceback (most recent call last)",
      "Cell \u001b[1;32mIn[12], line 22\u001b[0m\n\u001b[0;32m     20\u001b[0m index \u001b[38;5;241m=\u001b[39m characters\u001b[38;5;241m.\u001b[39mindex(char)\n\u001b[0;32m     21\u001b[0m \u001b[38;5;66;03m# 计算逆向位移后的索引\u001b[39;00m\n\u001b[1;32m---> 22\u001b[0m original_index \u001b[38;5;241m=\u001b[39m (index \u001b[38;5;241m-\u001b[39m shifts[i]) \u001b[38;5;241m%\u001b[39m \u001b[38;5;241m36\u001b[39m\n\u001b[0;32m     23\u001b[0m \u001b[38;5;66;03m# 将还原后的字符添加到列表中\u001b[39;00m\n\u001b[0;32m     24\u001b[0m restored_id\u001b[38;5;241m.\u001b[39mappend(characters[original_index])\n",
      "\u001b[1;31mIndexError\u001b[0m: list index out of range"
     ]
    }
   ],
   "source": [
    "# 定义字符集，包含数字、小写字母以及'-'和'_'\n",
    "characters = '0123456789abcdefghijklmnopqrstuvwxyz-_'\n",
    "\n",
    "# 位移量列表，根据匿名牌谱的位移规则生成\n",
    "shifts = [17, 18, 19, 20, 21, 22, 23, 24, 25, 0, 1, 2, 3, 4, 5, 6, 7, 8, 9]\n",
    "\n",
    "# 读取用户输入的匿名牌谱链接\n",
    "paipu_link = input(\"请输入匿名牌谱链接：\")\n",
    "\n",
    "# 提取牌谱ID部分\n",
    "paipu_id = paipu_link.split('=')[1].split('_')[0]\n",
    "\n",
    "# 初始化还原后的牌谱ID列表\n",
    "restored_id = []\n",
    "\n",
    "# 对牌谱ID中的每个字符进行逆向位移\n",
    "for i, char in enumerate(paipu_id):\n",
    "    if char in characters:\n",
    "        # 找到字符在字符集中的索引\n",
    "        index = characters.index(char)\n",
    "        # 计算逆向位移后的索引\n",
    "        original_index = (index - shifts[i]) % 36\n",
    "        # 将还原后的字符添加到列表中\n",
    "        restored_id.append(characters[original_index])\n",
    "    else:\n",
    "        # 如果字符不在字符集中，可能是非法字符，直接跳过\n",
    "        continue\n",
    "\n",
    "# 拼接还原后的牌谱ID，并去除末尾的\"_2\"\n",
    "restored_paipu_id = ''.join(restored_id)[:-2] if restored_id[-1] == '_' else ''.join(restored_id)\n",
    "\n",
    "# 输出还原后的牌谱链接\n",
    "print(\"还原后的牌谱链接:\", f\"https://game.maj-soul.com/1/?paipu={restored_paipu_id}\")"
   ]
  },
  {
   "cell_type": "code",
   "execution_count": 13,
   "id": "232fa492-e7a8-4b54-ae47-77ca8383c370",
   "metadata": {},
   "outputs": [
    {
     "name": "stdin",
     "output_type": "stream",
     "text": [
      "请输入匿名牌谱链接： https://game.maj-soul.com/1/?paipu=jmjnom-xq127097-cyzb-6eb8-hlip-kffkuwvmkquw_a61772597_2 \n"
     ]
    },
    {
     "ename": "IndexError",
     "evalue": "list index out of range",
     "output_type": "error",
     "traceback": [
      "\u001b[1;31m---------------------------------------------------------------------------\u001b[0m",
      "\u001b[1;31mIndexError\u001b[0m                                Traceback (most recent call last)",
      "Cell \u001b[1;32mIn[13], line 24\u001b[0m\n\u001b[0;32m     22\u001b[0m index \u001b[38;5;241m=\u001b[39m characters\u001b[38;5;241m.\u001b[39mindex(char)\n\u001b[0;32m     23\u001b[0m \u001b[38;5;66;03m# 计算原始位置的索引\u001b[39;00m\n\u001b[1;32m---> 24\u001b[0m original_index \u001b[38;5;241m=\u001b[39m (index \u001b[38;5;241m-\u001b[39m shifts[i]) \u001b[38;5;241m%\u001b[39m \u001b[38;5;241m36\u001b[39m\n\u001b[0;32m     25\u001b[0m \u001b[38;5;66;03m# 将还原后的字符添加到列表中\u001b[39;00m\n\u001b[0;32m     26\u001b[0m restored_id\u001b[38;5;241m.\u001b[39mappend(characters[original_index])\n",
      "\u001b[1;31mIndexError\u001b[0m: list index out of range"
     ]
    }
   ],
   "source": [
    "# 定义数字和字母的列表，包括'-'和'_'，因为它们可能出现在牌谱ID中\n",
    "characters = ['0', '1', '2', '3', '4', '5', '6', '7', '8', '9',\n",
    "               'a', 'b', 'c', 'd', 'e', 'f', 'g', 'h', 'i', 'j', 'k', 'l',\n",
    "               'm', 'n', 'o', 'p', 'q', 'r', 's', 't', 'u', 'v', 'w', 'x',\n",
    "               'y', 'z', '-', '_']\n",
    "\n",
    "# 位移规则，每个位置的字符根据这个规则进行位移\n",
    "shifts = [17, 18, 19, 20, 21, 22, 23, 24, 25, 26, 0, 1, 2, 3, 4, 5, 6, 7, 8, 9]\n",
    "\n",
    "# 读取用户输入的匿名牌谱链接\n",
    "paipu_link = input(\"请输入匿名牌谱链接：\")\n",
    "\n",
    "# 提取牌谱ID\n",
    "paipu_id = paipu_link.split('=')[1]\n",
    "\n",
    "# 初始化还原后的牌谱ID列表\n",
    "restored_id = []\n",
    "\n",
    "# 对牌谱ID中的每个字符进行处理\n",
    "for i, char in enumerate(paipu_id):\n",
    "    # 查找字符在characters列表中的索引\n",
    "    index = characters.index(char)\n",
    "    # 计算原始位置的索引\n",
    "    original_index = (index - shifts[i]) % 36\n",
    "    # 将还原后的字符添加到列表中\n",
    "    restored_id.append(characters[original_index])\n",
    "\n",
    "# 拼接还原后的牌谱ID\n",
    "restored_paipu_id = ''.join(restored_id)\n",
    "\n",
    "# 输出还原后的牌谱链接\n",
    "print(\"还原后的牌谱链接:\", f\"https://game.maj-soul.com/1/?paipu={restored_paipu_id}\")"
   ]
  },
  {
   "cell_type": "code",
   "execution_count": 14,
   "id": "f9f9b0ba-cabb-450a-87d3-6617c1b4d411",
   "metadata": {},
   "outputs": [
    {
     "name": "stdin",
     "output_type": "stream",
     "text": [
      "请输入匿名牌谱链接： https://game.maj-soul.com/1/?paipu=jmjnom-xq127097-cyzb-6eb8-hlip-kffkuwvmkquw_a61772597_2 \n"
     ]
    },
    {
     "ename": "IndexError",
     "evalue": "list index out of range",
     "output_type": "error",
     "traceback": [
      "\u001b[1;31m---------------------------------------------------------------------------\u001b[0m",
      "\u001b[1;31mIndexError\u001b[0m                                Traceback (most recent call last)",
      "Cell \u001b[1;32mIn[14], line 23\u001b[0m\n\u001b[0;32m     21\u001b[0m index \u001b[38;5;241m=\u001b[39m characters\u001b[38;5;241m.\u001b[39mindex(char)\n\u001b[0;32m     22\u001b[0m \u001b[38;5;66;03m# 计算原始位置的索引\u001b[39;00m\n\u001b[1;32m---> 23\u001b[0m original_index \u001b[38;5;241m=\u001b[39m (index \u001b[38;5;241m-\u001b[39m shifts[i]) \u001b[38;5;241m%\u001b[39m \u001b[38;5;241m36\u001b[39m\n\u001b[0;32m     24\u001b[0m \u001b[38;5;66;03m# 如果计算出的索引小于0，需要加上36来调整\u001b[39;00m\n\u001b[0;32m     25\u001b[0m \u001b[38;5;28;01mif\u001b[39;00m original_index \u001b[38;5;241m<\u001b[39m \u001b[38;5;241m0\u001b[39m:\n",
      "\u001b[1;31mIndexError\u001b[0m: list index out of range"
     ]
    }
   ],
   "source": [
    "# 定义数字和字母的列表\n",
    "numbers = [chr(x) for x in range(ord('0'), ord('0') + 10)]\n",
    "letters = [chr(x) for x in range(ord('a'), ord('a') + 26)]\n",
    "characters = numbers + letters  # 将数字和字母的列表合在一起\n",
    "\n",
    "# 位移规则，每个位置的字符根据这个规则进行位移\n",
    "shifts = [17, 18, 19, 20, 21, 22, 23, 24, 25, 0, 1, 2, 3, 4, 5, 6, 7, 8, 9]\n",
    "\n",
    "# 读取用户输入的匿名牌谱链接\n",
    "paipu_link = input(\"请输入匿名牌谱链接：\")\n",
    "\n",
    "# 提取牌谱ID并转换为列表，同时移除链接中的'-'字符\n",
    "paipu_id = paipu_link.split('=')[1].replace('-', '')\n",
    "\n",
    "# 初始化还原后的牌谱ID列表\n",
    "restored_id = []\n",
    "\n",
    "# 对牌谱ID中的每个字符进行处理\n",
    "for i, char in enumerate(paipu_id):\n",
    "    # 查找字符在characters列表中的索引\n",
    "    index = characters.index(char)\n",
    "    # 计算原始位置的索引\n",
    "    original_index = (index - shifts[i]) % 36\n",
    "    # 如果计算出的索引小于0，需要加上36来调整\n",
    "    if original_index < 0:\n",
    "        original_index += 36\n",
    "    # 将还原后的字符添加到列表中\n",
    "    restored_id.append(characters[original_index])\n",
    "\n",
    "# 拼接还原后的牌谱ID，并去除末尾的\"_2\"\n",
    "restored_paipu_id = ''.join(restored_id)[:-2] if restored_id[-2:] == '_2' else ''.join(restored_id)\n",
    "\n",
    "# 输出还原后的牌谱链接\n",
    "print(\"还原后的牌谱链接:\", f\"https://game.maj-soul.com/1/?paipu={restored_paipu_id}\")\n"
   ]
  },
  {
   "cell_type": "code",
   "execution_count": 15,
   "id": "9cda0f12-b3ff-47dc-98bd-411fd1290e10",
   "metadata": {},
   "outputs": [
    {
     "name": "stdin",
     "output_type": "stream",
     "text": [
      "请输入匿名牌谱链接： https://game.maj-soul.com/1/?paipu=jmjnom-xq127097-cyzb-6eb8-hlip-kffkuwvmkquw_a61772597_2 \n"
     ]
    },
    {
     "name": "stdout",
     "output_type": "stream",
     "text": [
      "还原后的牌谱链接: https://game.maj-soul.com/1/?paipu=240330a2cc7z748tt4y5b8hlipkffkuwvmkquw_a61772597_2 \n"
     ]
    }
   ],
   "source": [
    "# 定义数字和字母的列表\n",
    "numbers = [str(x) for x in range(10)]\n",
    "letters = [chr(x) for x in range(ord('a'), ord('z') + 1)]\n",
    "characters = numbers + letters  # 将数字和字母的列表合在一起\n",
    "\n",
    "# 位移规则，每个位置的字符根据这个规则进行位移\n",
    "shifts = [17, 18, 19, 20, 21, 22, 23, 24, 25, 26, 0, 1, 2, 3, 4, 5, 6, 7, 8, 9]\n",
    "\n",
    "# 读取用户输入的匿名牌谱链接\n",
    "paipu_link = input(\"请输入匿名牌谱链接：\")\n",
    "\n",
    "# 提取牌谱ID并转换为列表，同时移除链接中的'-'字符\n",
    "paipu_id = paipu_link.split('=')[1].replace('-', '')\n",
    "\n",
    "# 初始化还原后的牌谱ID列表\n",
    "restored_id = []\n",
    "\n",
    "# 对牌谱ID中的每个字符进行处理\n",
    "for i, char in enumerate(paipu_id):\n",
    "    # 检查索引是否在shifts列表的范围内\n",
    "    if i < len(shifts):\n",
    "        # 查找字符在characters列表中的索引\n",
    "        index = characters.index(char)\n",
    "        # 计算原始位置的索引\n",
    "        original_index = (index - shifts[i]) % 36\n",
    "        # 如果计算出的索引小于0，需要加上36来调整\n",
    "        if original_index < 0:\n",
    "            original_index += 36\n",
    "        # 将还原后的字符添加到列表中\n",
    "        restored_id.append(characters[original_index])\n",
    "    else:\n",
    "        # 如果索引超出shifts列表的范围，直接添加原始字符\n",
    "        restored_id.append(char)\n",
    "\n",
    "# 拼接还原后的牌谱ID，并去除末尾的\"_2\"\n",
    "restored_paipu_id = ''.join(restored_id)\n",
    "\n",
    "# 输出还原后的牌谱链接\n",
    "print(\"还原后的牌谱链接:\", f\"https://game.maj-soul.com/1/?paipu={restored_paipu_id}\")"
   ]
  },
  {
   "cell_type": "code",
   "execution_count": 16,
   "id": "410d3be4-aae1-488e-bbeb-2a599814b844",
   "metadata": {},
   "outputs": [
    {
     "name": "stdin",
     "output_type": "stream",
     "text": [
      "请输入匿名牌谱链接： https://game.maj-soul.com/1/?paipu=jmjnom-xq127097-cyzb-6eb8-hlip-kffkuwvmkquw_a61772597_2 \n"
     ]
    },
    {
     "ename": "ValueError",
     "evalue": "'-' is not in list",
     "output_type": "error",
     "traceback": [
      "\u001b[1;31m---------------------------------------------------------------------------\u001b[0m",
      "\u001b[1;31mValueError\u001b[0m                                Traceback (most recent call last)",
      "Cell \u001b[1;32mIn[16], line 18\u001b[0m\n\u001b[0;32m     15\u001b[0m \u001b[38;5;66;03m# 对牌谱ID中的每个字符进行处理\u001b[39;00m\n\u001b[0;32m     16\u001b[0m \u001b[38;5;28;01mfor\u001b[39;00m i, char \u001b[38;5;129;01min\u001b[39;00m \u001b[38;5;28menumerate\u001b[39m(paipu_id\u001b[38;5;241m.\u001b[39msplit(\u001b[38;5;124m'\u001b[39m\u001b[38;5;124m_\u001b[39m\u001b[38;5;124m'\u001b[39m)[\u001b[38;5;241m0\u001b[39m]):  \u001b[38;5;66;03m# 只处理\"_\"之前的部分\u001b[39;00m\n\u001b[0;32m     17\u001b[0m     \u001b[38;5;66;03m# 查找字符在characters列表中的索引\u001b[39;00m\n\u001b[1;32m---> 18\u001b[0m     index \u001b[38;5;241m=\u001b[39m characters\u001b[38;5;241m.\u001b[39mindex(char)\n\u001b[0;32m     19\u001b[0m     \u001b[38;5;66;03m# 计算原始位置的索引\u001b[39;00m\n\u001b[0;32m     20\u001b[0m     shift \u001b[38;5;241m=\u001b[39m \u001b[38;5;241m17\u001b[39m \u001b[38;5;241m+\u001b[39m i  \u001b[38;5;66;03m# 根据位置计算位移\u001b[39;00m\n",
      "\u001b[1;31mValueError\u001b[0m: '-' is not in list"
     ]
    }
   ],
   "source": [
    "# 定义数字和字母的列表\n",
    "numbers = [str(x) for x in range(10)]\n",
    "letters = [chr(x) for x in range(ord('a'), ord('z') + 1)]\n",
    "characters = numbers + letters  # 将数字和字母的列表合在一起\n",
    "\n",
    "# 读取用户输入的匿名牌谱链接\n",
    "paipu_link = input(\"请输入匿名牌谱链接：\")\n",
    "\n",
    "# 提取牌谱ID并转换为列表\n",
    "paipu_id = paipu_link.split('=')[1]\n",
    "\n",
    "# 初始化还原后的牌谱ID列表\n",
    "restored_id = []\n",
    "\n",
    "# 对牌谱ID中的每个字符进行处理\n",
    "for i, char in enumerate(paipu_id.split('_')[0]):  # 只处理\"_\"之前的部分\n",
    "    # 查找字符在characters列表中的索引\n",
    "    index = characters.index(char)\n",
    "    # 计算原始位置的索引\n",
    "    shift = 17 + i  # 根据位置计算位移\n",
    "    original_index = (index - shift) % 36\n",
    "    # 将还原后的字符添加到列表中\n",
    "    restored_id.append(characters[original_index])\n",
    "\n",
    "# 拼接还原后的牌谱ID，并去除末尾的\"_2\"\n",
    "restored_paipu_id = '_'.join(restored_id)[:-2] if restored_id[-2:] == '_2' else '_'.join(restored_id)\n",
    "\n",
    "# 输出还原后的牌谱链接\n",
    "print(\"还原后的牌谱链接:\", f\"https://game.maj-soul.com/1/?paipu={restored_paipu_id}\")\n"
   ]
  },
  {
   "cell_type": "code",
   "execution_count": 17,
   "id": "6d5750db-d514-4432-9540-bb9c2301baa2",
   "metadata": {},
   "outputs": [
    {
     "name": "stdin",
     "output_type": "stream",
     "text": [
      "请输入匿名牌谱链接： https://game.maj-soul.com/1/?paipu=jmjnom-xq127097-cyzb-6eb8-hlip-kffkuwvmkquw_a61772597_2 \n"
     ]
    },
    {
     "ename": "ValueError",
     "evalue": "'_' is not in list",
     "output_type": "error",
     "traceback": [
      "\u001b[1;31m---------------------------------------------------------------------------\u001b[0m",
      "\u001b[1;31mValueError\u001b[0m                                Traceback (most recent call last)",
      "Cell \u001b[1;32mIn[17], line 22\u001b[0m\n\u001b[0;32m     20\u001b[0m     \u001b[38;5;28;01mcontinue\u001b[39;00m\n\u001b[0;32m     21\u001b[0m \u001b[38;5;66;03m# 查找字符在characters列表中的索引\u001b[39;00m\n\u001b[1;32m---> 22\u001b[0m index \u001b[38;5;241m=\u001b[39m characters\u001b[38;5;241m.\u001b[39mindex(char)\n\u001b[0;32m     23\u001b[0m \u001b[38;5;66;03m# 计算原始位置的索引\u001b[39;00m\n\u001b[0;32m     24\u001b[0m shift \u001b[38;5;241m=\u001b[39m \u001b[38;5;241m17\u001b[39m \u001b[38;5;241m+\u001b[39m i  \u001b[38;5;66;03m# 根据位置计算位移\u001b[39;00m\n",
      "\u001b[1;31mValueError\u001b[0m: '_' is not in list"
     ]
    }
   ],
   "source": [
    "# 定义数字和字母的列表\n",
    "numbers = [str(x) for x in range(10)]\n",
    "letters = [chr(x) for x in range(ord('a'), ord('z') + 1)]\n",
    "characters = numbers + letters  # 将数字和字母的列表合在一起\n",
    "\n",
    "# 读取用户输入的匿名牌谱链接\n",
    "paipu_link = input(\"请输入匿名牌谱链接：\")\n",
    "\n",
    "# 提取牌谱ID并转换为列表，同时移除链接中的'-'字符\n",
    "paipu_id = paipu_link.split('=')[1].replace('-', '')\n",
    "\n",
    "# 初始化还原后的牌谱ID列表\n",
    "restored_id = []\n",
    "\n",
    "# 对牌谱ID中的每个字符进行处理\n",
    "for i, char in enumerate(paipu_id):\n",
    "    # 如果字符是'-'，则跳过\n",
    "    if char == '-':\n",
    "        restored_id.append(char)\n",
    "        continue\n",
    "    # 查找字符在characters列表中的索引\n",
    "    index = characters.index(char)\n",
    "    # 计算原始位置的索引\n",
    "    shift = 17 + i  # 根据位置计算位移\n",
    "    original_index = (index - shift) % 36\n",
    "    # 将还原后的字符添加到列表中\n",
    "    restored_id.append(characters[original_index])\n",
    "\n",
    "# 拼接还原后的牌谱ID，并去除末尾的\"_2\"\n",
    "restored_paipu_id = ''.join(restored_id).replace('_', '')[:-2] if restored_id[-2:] == '_2' else ''.join(restored_id).replace('_', '')\n",
    "\n",
    "# 输出还原后的牌谱链接\n",
    "print(\"还原后的牌谱链接:\", f\"https://game.maj-soul.com/1/?paipu={restored_paipu_id}\")"
   ]
  },
  {
   "cell_type": "code",
   "execution_count": 19,
   "id": "4da053ff-5bda-4469-b8d8-34517511e200",
   "metadata": {},
   "outputs": [
    {
     "name": "stdin",
     "output_type": "stream",
     "text": [
      "请输入匿名牌谱链接： https://game.maj-soul.com/1/?paipu=jmjolp-2x4t7u83-yaaa-64e7-hmjl-cgtjkoryslqy_a92003969_2\n"
     ]
    },
    {
     "name": "stdout",
     "output_type": "stream",
     "text": [
      "还原后的牌谱链接: https://game.maj-soul.com/1/?paipu=240403-e8e2f1e8-1cba-41a2-aeab-03f4479f804b\n"
     ]
    }
   ],
   "source": [
    "# 定义数字和字母的列表\n",
    "numbers = [str(x) for x in range(10)]\n",
    "letters = [chr(x) for x in range(ord('a'), ord('z') + 1)]\n",
    "characters = numbers + letters  # 将数字和字母的列表合在一起\n",
    "\n",
    "# 读取用户输入的匿名牌谱链接\n",
    "paipu_link = input(\"请输入匿名牌谱链接：\")\n",
    "\n",
    "# 提取牌谱ID并转换为列表\n",
    "paipu_id = paipu_link.split('=')[1]\n",
    "\n",
    "# 初始化还原后的牌谱ID列表\n",
    "restored_id = []\n",
    "\n",
    "# 对牌谱ID中的每个字符进行处理\n",
    "for i, char in enumerate(paipu_id.split('_')[0]):  # 只处理\"_\"之前的部分\n",
    "    if char in characters:\n",
    "        # 查找字符在characters列表中的索引\n",
    "        index = characters.index(char)\n",
    "        # 计算原始位置的索引\n",
    "        shift = 17 + i  # 根据位置计算位移\n",
    "        # 应用逆向位移\n",
    "        original_index = (index - shift) % len(characters)\n",
    "        # 将还原后的字符添加到列表中\n",
    "        restored_id.append(characters[original_index])\n",
    "    else:\n",
    "        # 如果字符是'_'，则直接添加到还原后的ID中\n",
    "        restored_id.append(char)\n",
    "\n",
    "# 拼接还原后的牌谱ID，并去除末尾的\"_2\"\n",
    "restored_paipu_id = ''.join(restored_id).replace('_', '') + '_2' if restored_id[-2:] == '_2' else ''.join(restored_id)\n",
    "\n",
    "# 输出还原后的牌谱链接\n",
    "print(\"还原后的牌谱链接:\", f\"https://game.maj-soul.com/1/?paipu={restored_paipu_id}\")"
   ]
  },
  {
   "cell_type": "code",
   "execution_count": null,
   "id": "f6223825-604b-4f6c-806c-d22691e105a0",
   "metadata": {},
   "outputs": [],
   "source": []
  }
 ],
 "metadata": {
  "kernelspec": {
   "display_name": "Python 3 (ipykernel)",
   "language": "python",
   "name": "python3"
  },
  "language_info": {
   "codemirror_mode": {
    "name": "ipython",
    "version": 3
   },
   "file_extension": ".py",
   "mimetype": "text/x-python",
   "name": "python",
   "nbconvert_exporter": "python",
   "pygments_lexer": "ipython3",
   "version": "3.11.7"
  }
 },
 "nbformat": 4,
 "nbformat_minor": 5
}
